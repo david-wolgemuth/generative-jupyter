{
 "cells": [
  {
   "cell_type": "markdown",
   "metadata": {},
   "source": [
    "# Overview\n",
    "\n",
    "- What is \"Hugging Face 🤗\"\n",
    "- What are Transformers?\n",
    "- What are common ML/AI _Tasks_ https://huggingface.co/tasks\n",
    "    - [Computer Vision](...)\n",
    "- What are _not_ Transformers?  (Diffusers, Tokenizers,"
   ]
  },
  {
   "cell_type": "code",
   "execution_count": null,
   "metadata": {
    "vscode": {
     "languageId": "plaintext"
    }
   },
   "outputs": [],
   "source": []
  }
 ],
 "metadata": {
  "language_info": {
   "name": "python"
  },
  "orig_nbformat": 4
 },
 "nbformat": 4,
 "nbformat_minor": 2
}
