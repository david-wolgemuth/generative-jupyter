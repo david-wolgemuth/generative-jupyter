{
 "cells": [
  {
   "cell_type": "markdown",
   "metadata": {},
   "source": [
    "# Overview\n",
    "\n",
    "- What is \"Hugging Face 🤗\"\n",
    "    - https://huggingface.co\n",
    "- What are Transformers?\n",
    "    - Let's look through a `pipeline` [transformers_pipeline](./transformers_pipeline.ipynb)\n",
    "- What are common ML/AI _Tasks_ https://huggingface.co/tasks\n",
    "    - [Natural Language Processing](./natural_language_processing.ipynb)\n",
    "    - [Computer Vision](./computer_vision.ipynb)\n",
    "        - [Diffusion](./diffusion.ipynb) \n",
    "    - [Multi Modal](./multi_modal.ipynb)\n",
    "- Extras\n",
    "    - [Datasets](./datasets.ipynb)\n",
    "    - Hosting \"Spaces\" on Hugging Face\n",
    "        - https://huggingface.co/spaces/redtwoon/demo-space\n",
    "    - Training / Fine-Tuning Models\n",
    "        - https://huggingface.co/learn/nlp-course/chapter3/3?fw=pt"
   ]
  }
 ],
 "metadata": {
  "language_info": {
   "name": "python"
  },
  "orig_nbformat": 4
 },
 "nbformat": 4,
 "nbformat_minor": 2
}
