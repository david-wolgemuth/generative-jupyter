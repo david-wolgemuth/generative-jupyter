{
 "cells": [
  {
   "cell_type": "markdown",
   "metadata": {},
   "source": [
    "## Setup Jupyter Notebook\n",
    "\n",
    "![](https://jupyter.org/assets/homepage/main-logo.svg)\n",
    "\n",
    "<!-- Most tools require Anaconda, as they are doing _more_ than just installing Python packages.  They often have base C libs / misc tools that need to be installed\n",
    "\n",
    "This is often the most painful part of ML / AI , in my experience ... -->\n",
    "\n",
    "_use virtual env if setting up on local_\n",
    "\n",
    "```sh\n",
    "pip install jupyterlab\n",
    "```\n",
    "\n",
    "### Alternative - In Browser / Cloud-Based\n",
    "\n",
    "_Jupyter Labs_ https://jupyter.org/try-jupyter/lab/\n",
    "\n",
    "_Alt: Google Collabs_ https://colab.research.google.com/\n"
   ]
  },
  {
   "cell_type": "code",
   "execution_count": 6,
   "metadata": {},
   "outputs": [
    {
     "name": "stdout",
     "output_type": "stream",
     "text": [
      "total 2512\n",
      "drwxr-xr-x   3 davidhuvr  staff      96 Sep 19 17:01 \u001b[1m\u001b[36maudio\u001b[m\u001b[m/\n",
      "-rw-r--r--   1 davidhuvr  staff  558078 Oct 11 11:22 audio.ipynb\n",
      "-rw-r--r--   1 davidhuvr  staff    5492 Oct 11 11:23 computer_vision.ipynb\n",
      "-rw-r--r--   1 davidhuvr  staff    1698 Oct 11 11:28 diffusion.ipynb\n",
      "-rw-r--r--   1 davidhuvr  staff    3411 Oct 11 11:29 environment_setup.ipynb\n",
      "-rw-r--r--   1 davidhuvr  staff     770 Oct 11 10:36 index.ipynb\n",
      "drwxr-xr-x   2 davidhuvr  staff      64 Oct  9 16:41 \u001b[1m\u001b[36minputs\u001b[m\u001b[m/\n",
      "-rw-r--r--   1 davidhuvr  staff  670612 Oct 11 10:58 multi_modal.ipynb\n",
      "-rw-r--r--   1 davidhuvr  staff   16237 Oct 11 10:54 natural_language_processing.ipynb\n",
      "drwxr-xr-x   8 davidhuvr  staff     256 Oct  9 16:40 \u001b[1m\u001b[36moutput\u001b[m\u001b[m/\n",
      "drwxr-xr-x  13 davidhuvr  staff     416 Oct 11 11:28 \u001b[1m\u001b[36mstatic\u001b[m\u001b[m/\n",
      "drwxr-xr-x  20 davidhuvr  staff     640 Sep 19 16:39 \u001b[1m\u001b[36mtraffic-captcha\u001b[m\u001b[m/\n",
      "-rw-r--r--   1 davidhuvr  staff   14590 Oct 11 10:00 transformers_pipeline.ipynb\n"
     ]
    }
   ],
   "source": [
    "%ls -l"
   ]
  },
  {
   "cell_type": "markdown",
   "metadata": {},
   "source": [
    "## Install Hugging Face Packages\n",
    "\n",
    "![](https://avatars.githubusercontent.com/u/25720743?s=200&v=4)\n",
    "\n",
    "### Transformers\n",
    "\n",
    "https://github.com/huggingface/transformers\n",
    "\n",
    "> Transformers provides thousands of pretrained models to \n",
    ">\n",
    "> perform tasks on different modalities such as text, vision, and audio.\n",
    "\n",
    "```sh\n",
    "pip install transformers\n",
    "```\n",
    "\n",
    "### Diffusers\n",
    "\n",
    "https://github.com/huggingface/diffusers\n",
    "\n",
    "> Diffusers is the go-to library for state-of-the-art pretrained diffusion models for\n",
    ">\n",
    ">   generating images, audio, and even 3D structures of molecules\n",
    "\n",
    "```sh\n",
    "pip install --upgrade diffusers[torch]\n",
    "```\n",
    "\n",
    "### Datasets\n",
    "\n",
    "https://github.com/huggingface/datasets\n",
    "\n",
    "> Datasets is a lightweight library providing two main features:\n",
    ">\n",
    ">   one-line dataloaders for many public datasets\n",
    ">\n",
    ">   efficient data pre-processing\n",
    "\n",
    "```sh\n",
    "pip install datasets\n",
    "```"
   ]
  },
  {
   "cell_type": "code",
   "execution_count": 1,
   "metadata": {},
   "outputs": [],
   "source": [
    "%pip install transformers\n",
    "%pip install --upgrade \"diffusers[torch]\"\n",
    "%pip install dataset"
   ]
  },
  {
   "cell_type": "markdown",
   "metadata": {},
   "source": [
    "## Install Pytorch\n",
    "\n",
    "![](https://raw.githubusercontent.com/pytorch/pytorch/main/docs/source/_static/img/pytorch-logo-dark.png)\n",
    "\n",
    "https://github.com/pytorch/pytorch\n",
    "\n",
    "> PyTorch is a Python package that provides two high-level features:\n",
    ">  -  Tensor computation (like NumPy) with strong GPU acceleration\n",
    ">  -  Deep neural networks built on a tape-based autograd system\n",
    "\n",
    "```sh\n",
    "```\n"
   ]
  },
  {
   "cell_type": "code",
   "execution_count": 1,
   "metadata": {},
   "outputs": [
    {
     "name": "stdout",
     "output_type": "stream",
     "text": [
      "Requirement already satisfied: torch in /Users/davidhuvr/.pyenv/versions/3.11.5/envs/3.11.5-huggingface/lib/python3.11/site-packages (2.1.0)\n",
      "Collecting torchvision\n",
      "  Obtaining dependency information for torchvision from https://files.pythonhosted.org/packages/dd/48/85ef87f1548620d7c3743cbe135b90d8cf673fc7b8594361917558d765b6/torchvision-0.16.0-cp311-cp311-macosx_11_0_arm64.whl.metadata\n",
      "  Downloading torchvision-0.16.0-cp311-cp311-macosx_11_0_arm64.whl.metadata (6.6 kB)\n",
      "Requirement already satisfied: filelock in /Users/davidhuvr/.pyenv/versions/3.11.5/envs/3.11.5-huggingface/lib/python3.11/site-packages (from torch) (3.12.4)\n",
      "Requirement already satisfied: typing-extensions in /Users/davidhuvr/.pyenv/versions/3.11.5/envs/3.11.5-huggingface/lib/python3.11/site-packages (from torch) (4.8.0)\n",
      "Requirement already satisfied: sympy in /Users/davidhuvr/.pyenv/versions/3.11.5/envs/3.11.5-huggingface/lib/python3.11/site-packages (from torch) (1.12)\n",
      "Requirement already satisfied: networkx in /Users/davidhuvr/.pyenv/versions/3.11.5/envs/3.11.5-huggingface/lib/python3.11/site-packages (from torch) (3.1)\n",
      "Requirement already satisfied: jinja2 in /Users/davidhuvr/.pyenv/versions/3.11.5/envs/3.11.5-huggingface/lib/python3.11/site-packages (from torch) (3.1.2)\n",
      "Requirement already satisfied: fsspec in /Users/davidhuvr/.pyenv/versions/3.11.5/envs/3.11.5-huggingface/lib/python3.11/site-packages (from torch) (2023.6.0)\n",
      "Requirement already satisfied: numpy in /Users/davidhuvr/.pyenv/versions/3.11.5/envs/3.11.5-huggingface/lib/python3.11/site-packages (from torchvision) (1.26.0)\n",
      "Requirement already satisfied: requests in /Users/davidhuvr/.pyenv/versions/3.11.5/envs/3.11.5-huggingface/lib/python3.11/site-packages (from torchvision) (2.31.0)\n",
      "Requirement already satisfied: pillow!=8.3.*,>=5.3.0 in /Users/davidhuvr/.pyenv/versions/3.11.5/envs/3.11.5-huggingface/lib/python3.11/site-packages (from torchvision) (10.0.1)\n",
      "Requirement already satisfied: MarkupSafe>=2.0 in /Users/davidhuvr/.pyenv/versions/3.11.5/envs/3.11.5-huggingface/lib/python3.11/site-packages (from jinja2->torch) (2.1.3)\n",
      "Requirement already satisfied: charset-normalizer<4,>=2 in /Users/davidhuvr/.pyenv/versions/3.11.5/envs/3.11.5-huggingface/lib/python3.11/site-packages (from requests->torchvision) (3.3.0)\n",
      "Requirement already satisfied: idna<4,>=2.5 in /Users/davidhuvr/.pyenv/versions/3.11.5/envs/3.11.5-huggingface/lib/python3.11/site-packages (from requests->torchvision) (3.4)\n",
      "Requirement already satisfied: urllib3<3,>=1.21.1 in /Users/davidhuvr/.pyenv/versions/3.11.5/envs/3.11.5-huggingface/lib/python3.11/site-packages (from requests->torchvision) (2.0.6)\n",
      "Requirement already satisfied: certifi>=2017.4.17 in /Users/davidhuvr/.pyenv/versions/3.11.5/envs/3.11.5-huggingface/lib/python3.11/site-packages (from requests->torchvision) (2023.7.22)\n",
      "Requirement already satisfied: mpmath>=0.19 in /Users/davidhuvr/.pyenv/versions/3.11.5/envs/3.11.5-huggingface/lib/python3.11/site-packages (from sympy->torch) (1.3.0)\n",
      "Downloading torchvision-0.16.0-cp311-cp311-macosx_11_0_arm64.whl (1.6 MB)\n",
      "\u001b[2K   \u001b[38;2;114;156;31m━━━━━━━━━━━━━━━━━━━━━━━━━━━━━━━━━━━━━━━━\u001b[0m \u001b[32m1.6/1.6 MB\u001b[0m \u001b[31m13.8 MB/s\u001b[0m eta \u001b[36m0:00:00\u001b[0m31m14.5 MB/s\u001b[0m eta \u001b[36m0:00:01\u001b[0m\n",
      "\u001b[?25hInstalling collected packages: torchvision\n",
      "Successfully installed torchvision-0.16.0\n",
      "Note: you may need to restart the kernel to use updated packages.\n"
     ]
    }
   ],
   "source": [
    "%pip install torch torchvision"
   ]
  }
 ],
 "metadata": {
  "kernelspec": {
   "display_name": "Python 3",
   "language": "python",
   "name": "python3"
  },
  "language_info": {
   "codemirror_mode": {
    "name": "ipython",
    "version": 3
   },
   "file_extension": ".py",
   "mimetype": "text/x-python",
   "name": "python",
   "nbconvert_exporter": "python",
   "pygments_lexer": "ipython3",
   "version": "3.11.5"
  },
  "orig_nbformat": 4
 },
 "nbformat": 4,
 "nbformat_minor": 2
}
