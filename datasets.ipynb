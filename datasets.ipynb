{
 "cells": [
  {
   "cell_type": "markdown",
   "metadata": {},
   "source": [
    "# Datasets\n",
    "\n",
    "https://huggingface.co/datasets"
   ]
  },
  {
   "cell_type": "code",
   "execution_count": 1,
   "metadata": {},
   "outputs": [
    {
     "name": "stdout",
     "output_type": "stream",
     "text": [
      "Requirement already satisfied: datasets in /Users/davidhuvr/.pyenv/versions/3.11.5/envs/3.11.5-huggingface/lib/python3.11/site-packages (2.14.5)\n",
      "Requirement already satisfied: numpy>=1.17 in /Users/davidhuvr/.pyenv/versions/3.11.5/envs/3.11.5-huggingface/lib/python3.11/site-packages (from datasets) (1.26.0)\n",
      "Requirement already satisfied: pyarrow>=8.0.0 in /Users/davidhuvr/.pyenv/versions/3.11.5/envs/3.11.5-huggingface/lib/python3.11/site-packages (from datasets) (13.0.0)\n",
      "Requirement already satisfied: dill<0.3.8,>=0.3.0 in /Users/davidhuvr/.pyenv/versions/3.11.5/envs/3.11.5-huggingface/lib/python3.11/site-packages (from datasets) (0.3.7)\n",
      "Requirement already satisfied: pandas in /Users/davidhuvr/.pyenv/versions/3.11.5/envs/3.11.5-huggingface/lib/python3.11/site-packages (from datasets) (2.1.1)\n",
      "Requirement already satisfied: requests>=2.19.0 in /Users/davidhuvr/.pyenv/versions/3.11.5/envs/3.11.5-huggingface/lib/python3.11/site-packages (from datasets) (2.31.0)\n",
      "Requirement already satisfied: tqdm>=4.62.1 in /Users/davidhuvr/.pyenv/versions/3.11.5/envs/3.11.5-huggingface/lib/python3.11/site-packages (from datasets) (4.66.1)\n",
      "Requirement already satisfied: xxhash in /Users/davidhuvr/.pyenv/versions/3.11.5/envs/3.11.5-huggingface/lib/python3.11/site-packages (from datasets) (3.4.1)\n",
      "Requirement already satisfied: multiprocess in /Users/davidhuvr/.pyenv/versions/3.11.5/envs/3.11.5-huggingface/lib/python3.11/site-packages (from datasets) (0.70.15)\n",
      "Requirement already satisfied: fsspec[http]<2023.9.0,>=2023.1.0 in /Users/davidhuvr/.pyenv/versions/3.11.5/envs/3.11.5-huggingface/lib/python3.11/site-packages (from datasets) (2023.6.0)\n",
      "Requirement already satisfied: aiohttp in /Users/davidhuvr/.pyenv/versions/3.11.5/envs/3.11.5-huggingface/lib/python3.11/site-packages (from datasets) (3.8.6)\n",
      "Requirement already satisfied: huggingface-hub<1.0.0,>=0.14.0 in /Users/davidhuvr/.pyenv/versions/3.11.5/envs/3.11.5-huggingface/lib/python3.11/site-packages (from datasets) (0.17.3)\n",
      "Requirement already satisfied: packaging in /Users/davidhuvr/.pyenv/versions/3.11.5/envs/3.11.5-huggingface/lib/python3.11/site-packages (from datasets) (23.2)\n",
      "Requirement already satisfied: pyyaml>=5.1 in /Users/davidhuvr/.pyenv/versions/3.11.5/envs/3.11.5-huggingface/lib/python3.11/site-packages (from datasets) (6.0.1)\n",
      "Requirement already satisfied: attrs>=17.3.0 in /Users/davidhuvr/.pyenv/versions/3.11.5/envs/3.11.5-huggingface/lib/python3.11/site-packages (from aiohttp->datasets) (23.1.0)\n",
      "Requirement already satisfied: charset-normalizer<4.0,>=2.0 in /Users/davidhuvr/.pyenv/versions/3.11.5/envs/3.11.5-huggingface/lib/python3.11/site-packages (from aiohttp->datasets) (3.3.0)\n",
      "Requirement already satisfied: multidict<7.0,>=4.5 in /Users/davidhuvr/.pyenv/versions/3.11.5/envs/3.11.5-huggingface/lib/python3.11/site-packages (from aiohttp->datasets) (6.0.4)\n",
      "Requirement already satisfied: async-timeout<5.0,>=4.0.0a3 in /Users/davidhuvr/.pyenv/versions/3.11.5/envs/3.11.5-huggingface/lib/python3.11/site-packages (from aiohttp->datasets) (4.0.3)\n",
      "Requirement already satisfied: yarl<2.0,>=1.0 in /Users/davidhuvr/.pyenv/versions/3.11.5/envs/3.11.5-huggingface/lib/python3.11/site-packages (from aiohttp->datasets) (1.9.2)\n",
      "Requirement already satisfied: frozenlist>=1.1.1 in /Users/davidhuvr/.pyenv/versions/3.11.5/envs/3.11.5-huggingface/lib/python3.11/site-packages (from aiohttp->datasets) (1.4.0)\n",
      "Requirement already satisfied: aiosignal>=1.1.2 in /Users/davidhuvr/.pyenv/versions/3.11.5/envs/3.11.5-huggingface/lib/python3.11/site-packages (from aiohttp->datasets) (1.3.1)\n",
      "Requirement already satisfied: filelock in /Users/davidhuvr/.pyenv/versions/3.11.5/envs/3.11.5-huggingface/lib/python3.11/site-packages (from huggingface-hub<1.0.0,>=0.14.0->datasets) (3.12.4)\n",
      "Requirement already satisfied: typing-extensions>=3.7.4.3 in /Users/davidhuvr/.pyenv/versions/3.11.5/envs/3.11.5-huggingface/lib/python3.11/site-packages (from huggingface-hub<1.0.0,>=0.14.0->datasets) (4.8.0)\n",
      "Requirement already satisfied: idna<4,>=2.5 in /Users/davidhuvr/.pyenv/versions/3.11.5/envs/3.11.5-huggingface/lib/python3.11/site-packages (from requests>=2.19.0->datasets) (3.4)\n",
      "Requirement already satisfied: urllib3<3,>=1.21.1 in /Users/davidhuvr/.pyenv/versions/3.11.5/envs/3.11.5-huggingface/lib/python3.11/site-packages (from requests>=2.19.0->datasets) (2.0.6)\n",
      "Requirement already satisfied: certifi>=2017.4.17 in /Users/davidhuvr/.pyenv/versions/3.11.5/envs/3.11.5-huggingface/lib/python3.11/site-packages (from requests>=2.19.0->datasets) (2023.7.22)\n",
      "Requirement already satisfied: python-dateutil>=2.8.2 in /Users/davidhuvr/.pyenv/versions/3.11.5/envs/3.11.5-huggingface/lib/python3.11/site-packages (from pandas->datasets) (2.8.2)\n",
      "Requirement already satisfied: pytz>=2020.1 in /Users/davidhuvr/.pyenv/versions/3.11.5/envs/3.11.5-huggingface/lib/python3.11/site-packages (from pandas->datasets) (2023.3.post1)\n",
      "Requirement already satisfied: tzdata>=2022.1 in /Users/davidhuvr/.pyenv/versions/3.11.5/envs/3.11.5-huggingface/lib/python3.11/site-packages (from pandas->datasets) (2023.3)\n",
      "Requirement already satisfied: six>=1.5 in /Users/davidhuvr/.pyenv/versions/3.11.5/envs/3.11.5-huggingface/lib/python3.11/site-packages (from python-dateutil>=2.8.2->pandas->datasets) (1.16.0)\n",
      "Note: you may need to restart the kernel to use updated packages.\n"
     ]
    }
   ],
   "source": [
    "%pip install datasets"
   ]
  },
  {
   "cell_type": "code",
   "execution_count": 2,
   "metadata": {},
   "outputs": [
    {
     "name": "stderr",
     "output_type": "stream",
     "text": [
      "/Users/davidhuvr/.pyenv/versions/3.11.5/envs/3.11.5-huggingface/lib/python3.11/site-packages/tqdm/auto.py:21: TqdmWarning: IProgress not found. Please update jupyter and ipywidgets. See https://ipywidgets.readthedocs.io/en/stable/user_install.html\n",
      "  from .autonotebook import tqdm as notebook_tqdm\n",
      "Downloading readme: 100%|██████████| 2.15k/2.15k [00:00<00:00, 7.18MB/s]\n",
      "Downloading data: 100%|██████████| 2.39M/2.39M [00:00<00:00, 12.9MB/s]\n",
      "Downloading data: 100%|██████████| 580k/580k [00:00<00:00, 10.2MB/s]]\n",
      "Downloading data files: 100%|██████████| 2/2 [00:00<00:00,  5.81it/s]\n",
      "Extracting data files: 100%|██████████| 2/2 [00:00<00:00, 978.38it/s]\n",
      "Generating train split: 16990 examples [00:00, 418410.85 examples/s]\n",
      "Generating validation split: 4117 examples [00:00, 387451.75 examples/s]\n"
     ]
    }
   ],
   "source": [
    "from datasets import load_dataset\n",
    "\n",
    "dataset = load_dataset(\"zeroshot/twitter-financial-news-topic\")"
   ]
  }
 ],
 "metadata": {
  "kernelspec": {
   "display_name": "Python 3",
   "language": "python",
   "name": "python3"
  },
  "language_info": {
   "codemirror_mode": {
    "name": "ipython",
    "version": 3
   },
   "file_extension": ".py",
   "mimetype": "text/x-python",
   "name": "python",
   "nbconvert_exporter": "python",
   "pygments_lexer": "ipython3",
   "version": "3.11.5"
  },
  "orig_nbformat": 4
 },
 "nbformat": 4,
 "nbformat_minor": 2
}
