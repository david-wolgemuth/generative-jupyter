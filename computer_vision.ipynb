{
 "cells": [
  {
   "cell_type": "markdown",
   "metadata": {},
   "source": [
    "## Depth Estimation\n",
    "\n",
    "https://huggingface.co/tasks/depth-estimation\n",
    "\n",
    "![Depth Estimation](./static/depth-estimation.png)"
   ]
  },
  {
   "cell_type": "code",
   "execution_count": 1,
   "metadata": {},
   "outputs": [
    {
     "name": "stderr",
     "output_type": "stream",
     "text": [
      "/Users/davidhuvr/.pyenv/versions/3.11.5/envs/3.11.5-huggingface/lib/python3.11/site-packages/tqdm/auto.py:21: TqdmWarning: IProgress not found. Please update jupyter and ipywidgets. See https://ipywidgets.readthedocs.io/en/stable/user_install.html\n",
      "  from .autonotebook import tqdm as notebook_tqdm\n",
      "Some weights of DPTForDepthEstimation were not initialized from the model checkpoint at Intel/dpt-large and are newly initialized: ['neck.fusion_stage.layers.0.residual_layer1.convolution2.weight', 'neck.fusion_stage.layers.0.residual_layer1.convolution2.bias', 'neck.fusion_stage.layers.0.residual_layer1.convolution1.bias', 'neck.fusion_stage.layers.0.residual_layer1.convolution1.weight']\n",
      "You should probably TRAIN this model on a down-stream task to be able to use it for predictions and inference.\n",
      "Could not find image processor class in the image processor config or the model config. Loading based on pattern matching with the model's feature extractor configuration.\n"
     ]
    }
   ],
   "source": [
    "from transformers import pipeline\n",
    "\n",
    "estimator = pipeline(task=\"depth-estimation\", model=\"Intel/dpt-large\")\n",
    "result = estimator(images=\"https://cdn.wallpapersafari.com/50/64/MvA4CI.jpg\")\n",
    "\n",
    "result[\"depth\"].save(\"output/depth.png\")"
   ]
  },
  {
   "cell_type": "markdown",
   "metadata": {},
   "source": [
    "## Image Classification\n",
    "\n",
    "https://huggingface.co/tasks/image-classification\n",
    "\n",
    "![Image Classification](./static/image-classification.png)"
   ]
  },
  {
   "cell_type": "code",
   "execution_count": 2,
   "metadata": {},
   "outputs": [
    {
     "name": "stderr",
     "output_type": "stream",
     "text": [
      "No model was supplied, defaulted to google/vit-base-patch16-224 and revision 5dca96d (https://huggingface.co/google/vit-base-patch16-224).\n",
      "Using a pipeline without specifying a model name and revision in production is not recommended.\n"
     ]
    },
    {
     "data": {
      "text/plain": [
       "[{'score': 0.9791145324707031, 'label': 'kite'},\n",
       " {'score': 0.013808042742311954,\n",
       "  'label': 'bald eagle, American eagle, Haliaeetus leucocephalus'},\n",
       " {'score': 0.0020374509040266275, 'label': 'vulture'},\n",
       " {'score': 0.0005228705704212189, 'label': 'black grouse'},\n",
       " {'score': 0.00030615818104706705,\n",
       "  'label': 'great grey owl, great gray owl, Strix nebulosa'}]"
      ]
     },
     "execution_count": 2,
     "metadata": {},
     "output_type": "execute_result"
    }
   ],
   "source": [
    "from transformers import pipeline\n",
    "classify = pipeline(\"image-classification\")\n",
    "classify(\"https://www.dpnow.com/images/PhotoFixChallenge/DSC00092.JPG\")\n"
   ]
  },
  {
   "cell_type": "markdown",
   "metadata": {},
   "source": [
    "## Image Segmentation\n",
    "\n",
    "https://huggingface.co/tasks/image-segmentation\n",
    "\n",
    "![Image Segmentation](./static/image-segmentation.png)"
   ]
  },
  {
   "cell_type": "markdown",
   "metadata": {},
   "source": [
    "## Image-to-Image\n",
    "\n",
    "https://huggingface.co/tasks/image-to-image\n",
    "\n",
    "![Image-to-Image](./static/image-to-image.png)"
   ]
  },
  {
   "cell_type": "markdown",
   "metadata": {},
   "source": [
    "## Object Detection\n",
    "\n",
    "https://huggingface.co/tasks/object-detection\n",
    "\n",
    "![Object Detection](./static/object-detection.png)"
   ]
  },
  {
   "cell_type": "markdown",
   "metadata": {},
   "source": [
    "## Video Classification\n",
    "\n",
    "https://huggingface.co/tasks/video-classification\n",
    "\n",
    "![Video Classification](./static/video-classification.png)\n"
   ]
  }
 ],
 "metadata": {
  "kernelspec": {
   "display_name": "Python 3",
   "language": "python",
   "name": "python3"
  },
  "language_info": {
   "codemirror_mode": {
    "name": "ipython",
    "version": 3
   },
   "file_extension": ".py",
   "mimetype": "text/x-python",
   "name": "python",
   "nbconvert_exporter": "python",
   "pygments_lexer": "ipython3",
   "version": "3.11.5"
  },
  "orig_nbformat": 4
 },
 "nbformat": 4,
 "nbformat_minor": 2
}
