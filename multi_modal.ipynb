{
 "cells": [
  {
   "cell_type": "markdown",
   "metadata": {},
   "source": [
    "### pipeline example: Visual question answering `vqa`\n",
    "\n",
    "![](./static/multi-modal/visual-question-answering.png)\n",
    "\n",
    "> answer a question about the image, given an image and a question\n",
    ">\n",
    "> https://huggingface.co/docs/transformers/main_classes/pipelines#transformers.VisualQuestionAnsweringPipeline"
   ]
  },
  {
   "cell_type": "code",
   "execution_count": 1,
   "metadata": {},
   "outputs": [
    {
     "name": "stderr",
     "output_type": "stream",
     "text": [
      "/Users/davidhuvr/.pyenv/versions/3.11.5/envs/3.11.5-huggingface/lib/python3.11/site-packages/tqdm/auto.py:21: TqdmWarning: IProgress not found. Please update jupyter and ipywidgets. See https://ipywidgets.readthedocs.io/en/stable/user_install.html\n",
      "  from .autonotebook import tqdm as notebook_tqdm\n",
      "Could not find image processor class in the image processor config or the model config. Loading based on pattern matching with the model's feature extractor configuration.\n"
     ]
    },
    {
     "data": {
      "text/plain": [
       "'visual-question-answering'"
      ]
     },
     "execution_count": 1,
     "metadata": {},
     "output_type": "execute_result"
    }
   ],
   "source": [
    "from transformers import pipeline\n",
    "my_visual_question_answerer = pipeline(model=\"dandelin/vilt-b32-finetuned-vqa\")\n",
    "\n",
    "my_visual_question_answerer.task"
   ]
  },
  {
   "cell_type": "markdown",
   "metadata": {},
   "source": [
    "![](./output/astronaut_rides_horse.png)"
   ]
  },
  {
   "cell_type": "code",
   "execution_count": 2,
   "metadata": {},
   "outputs": [
    {
     "data": {
      "text/plain": [
       "[{'score': 0.9961353540420532, 'answer': 'horse'},\n",
       " {'score': 0.011806492693722248, 'answer': 'pony'},\n",
       " {'score': 0.011430073529481888, 'answer': 'yes'},\n",
       " {'score': 0.002674927469342947, 'answer': 'donkey'},\n",
       " {'score': 0.0014789114939048886, 'answer': 'human'}]"
      ]
     },
     "execution_count": 2,
     "metadata": {},
     "output_type": "execute_result"
    }
   ],
   "source": [
    "# \n",
    "\n",
    "my_visual_question_answerer(question=\"What animal is the person riding?\", image=\"./output/astronaut_rides_horse.png\") "
   ]
  },
  {
   "cell_type": "markdown",
   "metadata": {},
   "source": [
    "![](./traffic-captcha/full.png)"
   ]
  },
  {
   "cell_type": "code",
   "execution_count": 3,
   "metadata": {},
   "outputs": [
    {
     "name": "stdout",
     "output_type": "stream",
     "text": [
      "square-5.png - (99.91% confidence)\n",
      "square-6.png - (99.91% confidence)\n",
      "square-7.png - (76.56% confidence)\n",
      "square-14.png - (86.83% confidence)\n"
     ]
    }
   ],
   "source": [
    "# traffic cam captcha example\n",
    "\n",
    "for i in range(1, 17):\n",
    "    result = my_visual_question_answerer(question=\"Does this image contain a traffic light?\", image=f\"./traffic-captcha/square-{i}.png\")\n",
    "    answer = result[0][\"answer\"]\n",
    "    score = round(result[0][\"score\"] * 100, 2)\n",
    "\n",
    "    if answer == \"yes\":\n",
    "        print(f\"square-{i}.png - ({score}% confidence)\")\n"
   ]
  }
 ],
 "metadata": {
  "kernelspec": {
   "display_name": "my-pytorch",
   "language": "python",
   "name": "python3"
  },
  "language_info": {
   "codemirror_mode": {
    "name": "ipython",
    "version": 3
   },
   "file_extension": ".py",
   "mimetype": "text/x-python",
   "name": "python",
   "nbconvert_exporter": "python",
   "pygments_lexer": "ipython3",
   "version": "3.11.5"
  },
  "orig_nbformat": 4
 },
 "nbformat": 4,
 "nbformat_minor": 2
}
