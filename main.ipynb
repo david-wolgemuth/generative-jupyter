{
 "cells": [
  {
   "cell_type": "markdown",
   "metadata": {},
   "source": [
    "# Generative Jupyter\n",
    "\n",
    "Various \"generative ai\" tools which can be run inside a jupyter notebook and stitched together"
   ]
  },
  {
   "cell_type": "markdown",
   "metadata": {},
   "source": [
    "## Setup / Installation\n",
    "\n",
    "Most tools require Anaconda, as they are doing _more_ than just installing Python packages.  They often have base C libs / misc tools that need to be installed\n",
    "\n",
    "This is often the most painful part of ML / AI , in my experience ...\n",
    "\n",
    "### Install Jupyter / Get started on Jupyter Labs\n",
    "\n",
    "_Alt: Google Collabs_\n",
    "\n",
    "```sh\n",
    "pip install jupyterlab\n",
    "```"
   ]
  },
  {
   "cell_type": "markdown",
   "metadata": {},
   "source": [
    "## [HuggingFace](https://huggingface.co) _Transformers_ 🤖\n",
    "\n",
    "HuggingFace's `transformers` package is a very popular lib for all sorts of ML/AI tools in Python\n",
    "\n",
    "https://huggingface.co/docs/transformers/index\n",
    "\n",
    "It exposes the same models to biggest ML frameworks (PyTorch, TensorFlow, Flax)\n",
    "\n",
    "```sh\n",
    "!pip install transformers datasets\n",
    "pip install torch\n",
    "```"
   ]
  },
  {
   "cell_type": "code",
   "execution_count": null,
   "metadata": {},
   "outputs": [],
   "source": [
    "# The pipeline() is the easiest and fastest way to use a pretrained model for inference. \n",
    "# You can use the pipeline() out-of-the-box for many tasks across different modalities\n",
    "\n",
    "from transformers import pipeline"
   ]
  },
  {
   "cell_type": "markdown",
   "metadata": {},
   "source": [
    "### pipeline example: `sentiment-analysis`\n",
    "\n",
    "> classifying sequences according to positive or negative sentiments\n",
    ">\n",
    "> https://huggingface.co/docs/transformers/v4.33.2/en/main_classes/pipelines#transformers.TextClassificationPipeline"
   ]
  },
  {
   "cell_type": "code",
   "execution_count": null,
   "metadata": {},
   "outputs": [],
   "source": [
    "#  \"text-classification\" (alias \"sentiment-analysis\" available): will return a TextClassificationPipeline.\n",
    "my_analyzer = pipeline(\"sentiment-analysis\")"
   ]
  },
  {
   "cell_type": "markdown",
   "metadata": {},
   "source": [
    "> No model was supplied, defaulted to `distilbert-base-uncased-finetuned-sst-2-english` and revision af0f99b (https://huggingface.co/distilbert-base-uncased-finetuned-sst-2-english).\n",
    "> Using a pipeline without specifying a model name and revision in production is not recommended."
   ]
  },
  {
   "cell_type": "code",
   "execution_count": null,
   "metadata": {},
   "outputs": [],
   "source": [
    "my_analyzer.model\n",
    "\n",
    "# DistilBertForSequenceClassification"
   ]
  },
  {
   "cell_type": "code",
   "execution_count": null,
   "metadata": {},
   "outputs": [],
   "source": [
    "SENTENCES = [\n",
    "    \"Yellow is my favorite color.\",\n",
    "    \"I hate the color yellow.\",\n",
    "    \"I love the color yellow.\",\n",
    "    \"I don't know if I like the color yellow.\",\n",
    "]\n",
    "\n",
    "\n",
    "for sentence in SENTENCES:\n",
    "    result = my_analyzer(sentence)[0]\n",
    "    print(f\"{result['label']} with score {round(result['score'], 4)}: \\t\\t {sentence}\")"
   ]
  },
  {
   "cell_type": "markdown",
   "metadata": {},
   "source": [
    "### pipeline example: `text-generation`\n",
    "\n",
    "> This pipeline predicts the words that will follow a specified text prompt.\n",
    ">\n",
    "> https://huggingface.co/docs/transformers/v4.33.2/en/main_classes/pipelines#transformers.TextGenerationPipeline"
   ]
  },
  {
   "cell_type": "code",
   "execution_count": null,
   "metadata": {},
   "outputs": [],
   "source": [
    "my_text_generator = pipeline(\"text-generation\")\n",
    "\n",
    "# No model was supplied, defaulted to gpt2 and revision 6c0e608 (https://huggingface.co/gpt2).\n",
    "\n",
    "my_text_generator.model"
   ]
  },
  {
   "cell_type": "code",
   "execution_count": null,
   "metadata": {},
   "outputs": [],
   "source": [
    "PROMPTS = [\n",
    "    \"I love the color yellow because\",\n",
    "    \"I hate the color yellow because\",\n",
    "    \"I don't know if I like the color yellow because\",\n",
    "]\n",
    "\n",
    "# for prompt in PROMPTS:\n",
    "# my_text_generator(PROMPTS[0], max_length=25, do_sample=False)\n",
    "\n",
    "for prompt in PROMPTS:\n",
    "    result = my_text_generator(prompt, max_length=25, do_sample=False)[0][\"generated_text\"]\n",
    "    print(f\"{prompt} ...\\t {result[len(prompt):]}\")"
   ]
  },
  {
   "cell_type": "markdown",
   "metadata": {},
   "source": [
    "## [HuggingFace](https://huggingface.co) _Diffusers_ 🧨\n",
    "\n",
    "HuggingFace's `diffusers` package \n",
    "\n",
    "https://huggingface.co/docs/diffusers/index\n",
    "\n",
    "> diffusion models for generating images, audio, and even 3D structures of molecules\n",
    "\n",
    "```sh\n",
    "!pip install --upgrade diffusers[torch]\n",
    "```"
   ]
  },
  {
   "cell_type": "code",
   "execution_count": 8,
   "metadata": {},
   "outputs": [
    {
     "data": {
      "application/vnd.jupyter.widget-view+json": {
       "model_id": "bfc90fda57cd4edea9eb0bfbe7ed41f6",
       "version_major": 2,
       "version_minor": 0
      },
      "text/plain": [
       "Loading pipeline components...:   0%|          | 0/7 [00:00<?, ?it/s]"
      ]
     },
     "metadata": {},
     "output_type": "display_data"
    },
    {
     "name": "stderr",
     "output_type": "stream",
     "text": [
      "`text_config_dict` is provided which will be used to initialize `CLIPTextConfig`. The value `text_config[\"id2label\"]` will be overriden.\n",
      "`text_config_dict` is provided which will be used to initialize `CLIPTextConfig`. The value `text_config[\"bos_token_id\"]` will be overriden.\n",
      "`text_config_dict` is provided which will be used to initialize `CLIPTextConfig`. The value `text_config[\"eos_token_id\"]` will be overriden.\n"
     ]
    }
   ],
   "source": [
    "from diffusers import DiffusionPipeline\n",
    "\n",
    "my_image_generator = DiffusionPipeline.from_pretrained(\"runwayml/stable-diffusion-v1-5\")\n",
    "\n",
    "# running on Mac M1\n",
    "my_image_generator = my_image_generator.to(\"mps\")\n",
    "\n",
    "# Recommended if your computer has < 64 GB of RAM\n",
    "my_image_generator.enable_attention_slicing()"
   ]
  },
  {
   "cell_type": "code",
   "execution_count": 9,
   "metadata": {},
   "outputs": [
    {
     "data": {
      "application/vnd.jupyter.widget-view+json": {
       "model_id": "0b76398707474dbfb07e91584ba4c65d",
       "version_major": 2,
       "version_minor": 0
      },
      "text/plain": [
       "  0%|          | 0/50 [00:00<?, ?it/s]"
      ]
     },
     "metadata": {},
     "output_type": "display_data"
    }
   ],
   "source": [
    "result = my_image_generator(\"pyschadelic cat listening to music\")"
   ]
  },
  {
   "cell_type": "code",
   "execution_count": 10,
   "metadata": {},
   "outputs": [],
   "source": [
    "result.images[0].save(\"output/my-image.png\")"
   ]
  },
  {
   "cell_type": "code",
   "execution_count": 12,
   "metadata": {},
   "outputs": [
    {
     "data": {
      "application/vnd.jupyter.widget-view+json": {
       "model_id": "a4df83b6827b4d86bb8bf87e5b385bfb",
       "version_major": 2,
       "version_minor": 0
      },
      "text/plain": [
       "  0%|          | 0/50 [00:00<?, ?it/s]"
      ]
     },
     "metadata": {},
     "output_type": "display_data"
    },
    {
     "data": {
      "application/vnd.jupyter.widget-view+json": {
       "model_id": "4cfa8e522d9e48fa9313344fbc206ffb",
       "version_major": 2,
       "version_minor": 0
      },
      "text/plain": [
       "  0%|          | 0/50 [00:00<?, ?it/s]"
      ]
     },
     "metadata": {},
     "output_type": "display_data"
    },
    {
     "data": {
      "application/vnd.jupyter.widget-view+json": {
       "model_id": "066e5e6071bc4cae914b4a475dc4d4ef",
       "version_major": 2,
       "version_minor": 0
      },
      "text/plain": [
       "  0%|          | 0/50 [00:00<?, ?it/s]"
      ]
     },
     "metadata": {},
     "output_type": "display_data"
    }
   ],
   "source": [
    "ACTIVITIES = [\n",
    "    \"eating a slice of lasagna\",\n",
    "    \"playing the piano\",\n",
    "    \"hitting a baseball with a bat\",\n",
    "]\n",
    "\n",
    "for activity in ACTIVITIES:\n",
    "    result = my_image_generator(\"comic strip of garfield the cat \" + activity)\n",
    "    result.images[0].save(f\"output/{activity}.png\")"
   ]
  }
 ],
 "metadata": {
  "kernelspec": {
   "display_name": "my-pytorch",
   "language": "python",
   "name": "python3"
  },
  "language_info": {
   "codemirror_mode": {
    "name": "ipython",
    "version": 3
   },
   "file_extension": ".py",
   "mimetype": "text/x-python",
   "name": "python",
   "nbconvert_exporter": "python",
   "pygments_lexer": "ipython3",
   "version": "3.10.5"
  },
  "orig_nbformat": 4
 },
 "nbformat": 4,
 "nbformat_minor": 2
}
